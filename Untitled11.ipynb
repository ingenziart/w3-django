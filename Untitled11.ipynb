{
  "nbformat": 4,
  "nbformat_minor": 0,
  "metadata": {
    "colab": {
      "provenance": [],
      "authorship_tag": "ABX9TyM2CzF8449XaXrK+1NrEn8M",
      "include_colab_link": true
    },
    "kernelspec": {
      "name": "python3",
      "display_name": "Python 3"
    },
    "language_info": {
      "name": "python"
    }
  },
  "cells": [
    {
      "cell_type": "markdown",
      "metadata": {
        "id": "view-in-github",
        "colab_type": "text"
      },
      "source": [
        "<a href=\"https://colab.research.google.com/github/ingenziart/w3-django/blob/main/Untitled11.ipynb\" target=\"_parent\"><img src=\"https://colab.research.google.com/assets/colab-badge.svg\" alt=\"Open In Colab\"/></a>"
      ]
    },
    {
      "cell_type": "code",
      "execution_count": 19,
      "metadata": {
        "colab": {
          "base_uri": "https://localhost:8080/"
        },
        "id": "TNAJTWZkLewU",
        "outputId": "1a9c25f9-cce6-4391-d014-c1b09f33eeb0"
      },
      "outputs": [
        {
          "output_type": "stream",
          "name": "stdout",
          "text": [
            "<class 'numpy.ndarray'>\n",
            "1.26.4\n",
            "[[1 2 3]\n",
            " [4 5 6]]\n",
            "[[[1 2 3]\n",
            "  [4 5 6]]\n",
            "\n",
            " [[1 2 3]\n",
            "  [4 5 6]]]\n",
            "[[[1 2 3]]]\n"
          ]
        }
      ],
      "source": [
        "import numpy as np\n",
        "arr=np.array([1,2,3,4,5])\n",
        "print(type (arr))\n",
        "\n",
        "print(np.__version__)\n",
        "\n",
        "#2-d\n",
        "\n",
        "#is used. to present matrix\n",
        "array=np.array([[1,2,3],[4,5,6]])\n",
        "print(array)\n",
        "\n",
        "#3d matrix\n",
        "\n",
        "array2=np.array([[[1,2,3],[4,5,6]],[[1,2,3],[4,5,6]]])\n",
        "print(array2)\n",
        "\n",
        "array3=np.array([1,2,3],ndmin=3)\n",
        "print(array3)\n",
        "\n"
      ]
    },
    {
      "cell_type": "markdown",
      "source": [
        "**numpy(numerical pyton)**\n",
        "is python library used for working wit arrays .\n",
        "\n"
      ],
      "metadata": {
        "id": "H7CIFy8PLfnN"
      }
    }
  ]
}